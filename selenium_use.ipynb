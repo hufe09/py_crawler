{
 "cells": [
  {
   "cell_type": "markdown",
   "metadata": {},
   "source": [
    "# selenium 配置及使用"
   ]
  },
  {
   "cell_type": "markdown",
   "metadata": {},
   "source": [
    "## 1. Selenium"
   ]
  },
  {
   "cell_type": "markdown",
   "metadata": {},
   "source": [
    "**Selenium** 是 Web 应用的测试工具，可以直接运行在浏览器中，它的原理是模拟用户在进行操作，支持当前多种主流的浏览器。\n",
    "\n",
    "这里我们模拟 Chrome 浏览器的页面访问。\n",
    "\n",
    "你需要先引用 Selenium 中的 WebDriver 库。WebDriver 实际上就是 Selenium 2，是一种用于 Web 应用程序的自动测试工具，提供了一套友好的 API，方便我们进行操作。\n",
    "\n",
    "然后通过 WebDriver 创建一个 Chrome 浏览器的 drive，再通过 drive 获取访问页面的完整 HTML。\n",
    "\n",
    "当你获取到完整的 HTML 时，就可以对 HTML 中的 XPath 进行提取，在这里我们需要找到图片地址 srcs 和电影名称 titles。这里通过 XPath 语法匹配到了多个元素，因为是多个元素，所以我们需要用 for 循环来对每个元素进行提取。\n",
    "\n",
    "**但 Selenium 用的时候有个麻烦事，就是环境的相关配置，得安装好相关浏览器，比如 Chrome、Firefox 等等，然后还要到官方网站去下载对应的驱动，最重要的还需要安装对应的 Python Selenium 库，确实是不是很方便，另外如果要做大规模部署的话，环境配置的一些问题也是个头疼的事情。**\n",
    "\n",
    "- Chrome 点击下载chrome的webdriver： <http://chromedriver.storage.googleapis.com/index.html>\n",
    "  不同的Chrome的版本对应的chromedriver.exe 版本也不一样，下载时不要搞错了。如果是最新的Chrome, 下载最新的chromedriver.exe 就可以了。\n",
    "  把chromedriver的路径也加到环境变量里。\n",
    "- Firefox Firefox驱动下载地址为：<https://github.com/mozilla/geckodriver/releases/>\n",
    "  根据自己的操作系统下载对应的驱动即可，使用的话，需要把驱动的路径和火狐浏览器的路径加入到环境变量里面才可以\n",
    "- IE IE浏览器驱动下载地址为：<http://selenium-release.storage.googleapis.com/index.html>\n",
    "  根据自己selenium版本下载对应版本的驱动即可，python的话，下载里面的IEDriverServerxxx.zip即可，这个是区分32和64位系统的，根据自己的系统下载即可，需要注意的是，如果要打开IE浏览器的话，需要在浏览器的Internet选项中的安全页里有4个安全选项，Internet、本地Internet、受信任的站点、受限制的站点，这4个里面都有一个启用保护模式，都需要勾选上才可以，还得把驱动的路径加入到环境变量中。\n",
    "\n"
   ]
  },
  {
   "cell_type": "markdown",
   "metadata": {},
   "source": [
    "## 2. ChromeDriver \n",
    "[ChromeDriver](https://docs.seleniumhq.org/docs/03_webdriver.jsp#chromedriver) 由 [Chromium](https://bugs.chromium.org/p/chromium/issues/list) 项目 iteslf 维护/支持。WebDriver 通过 chromedriver 二进制文件与 Chrome 一起使用（可在 chrome 项目的下载页面上找到）。您需要安装 chromedriver 和 Chrome 浏览器版本。chromedriver 需要放在系统路径的某个位置，以便 WebDriver 自动发现它。Chrome 浏览器本身是由 chromedriver 在默认安装路径中发现的。这两者都可以被环境变量覆盖。 有关更多信息，请参阅[维基](https://github.com/SeleniumHQ/selenium/wiki/ChromeDriver)。"
   ]
  },
  {
   "cell_type": "markdown",
   "metadata": {},
   "source": [
    "### 版本选择\n",
    "我们维护ChromeDriver的多个版本。选择哪个版本取决于您使用的Chrome版本。特别：\n",
    "\n",
    "- ChromeDriver使用与Chrome相同的版本号方案。有关详细信息，请参阅 https://www.chromium.org/developers/version-numbers\n",
    "- 每个版本的ChromeDriver都支持Chrome，其中包含主要版本，次要版本和版本号。例如，ChromeDriver 73.0.3683.20支持所有以73.0.3683开头的Chrome版本。\n",
    "- 在Chrome的新主要版本进入Beta之前，将发布匹配版本的ChromeDriver。\n",
    "- 在初始发布新主要版本后，我们将根据需要发布补丁。这些修补程序可能与Chrome的更新一致，也可能不一致。\n",
    "\n",
    "以下是选择要下载的ChromeDriver版本的步骤：\n",
    "\n",
    "- 首先，找出您正在使用的Chrome版本。Linux 使用 `google-chrome --version`查看，图形界面在Chrome 浏览器 【帮助】->【关于 Google Chrome】查看。假设你有Chrome 72.0.3626.81。\n",
    "- 获取Chrome版本号，删除最后一部分，然后将结果附加到网址 https://chromedriver.storage.googleapis.com/LATEST_RELEASE 例如，使用Chrome版本72.0.3626.81，您将获得一个网址 https://chromedriver.storage.googleapis.com/LATEST_RELEASE_72.0.3626\n",
    "- 使用在上一步中创建的URL来检索包含要使用的ChromeDriver版本的小文件。例如，上面的URL将获得包含“72.0.3626.69”的文件。（当然，实际数字可能会在未来发生变化。）\n",
    "- 使用从上一步骤检索到的版本号构建下载ChromeDriver的URL。对于版本72.0.3626.69，URL将为 https://chromedriver.storage.googleapis.com/index.html?path=72.0.3626.69/\n",
    "- 初始下载后，建议您偶尔再次执行上述过程，看看是否有任何错误修复版本。\n",
    "\n",
    ">摘录自[ChromeDriver 官方页面](https://sites.google.com/a/chromium.org/chromedriver/downloads/version-selection)"
   ]
  },
  {
   "cell_type": "code",
   "execution_count": null,
   "metadata": {},
   "outputs": [],
   "source": [
    "import requests\n",
    "requests.get(\"https://chromedriver.storage.googleapis.com/LATEST_RELEASE\").text"
   ]
  },
  {
   "cell_type": "markdown",
   "metadata": {},
   "source": [
    "### ChromeDriver 下载\n",
    "\n",
    "确定 Chrome 浏览器的版本后，下载 [ChromeDriver](https://sites.google.com/a/chromium.org/chromedriver/) 可执行文件。\n",
    "\n",
    "- 将 chromedriver 添加进环境变量\n",
    "  - [Windows](https://blog.csdn.net/qq_41429288/article/details/80472064)\n",
    "      - 将chromedriver.exe复制到Chrome浏览器安装目录，C:\\Program Files (x86)\\Google\\Chrome\\Application 目录，将此目录加入环境变量。\n",
    "  \n",
    "      - 将 chromedriver.exe 加入 python 程序同目录（亲测有效）。\n",
    "  - [Mac](https://blog.csdn.net/ywj_486/article/details/80940087)\n",
    "  - Linux\n",
    "    在命令行中进入下载文件所在路径，将其移动到 `/usr/bin`\n",
    "    \n",
    "    `sudo mv chromedriver /usr/bin`\n",
    "\n",
    "\n",
    "然后按照 [Wiki页面](https://github.com/SeleniumHQ/selenium/wiki/ChromeDriver) 上的其他说明进行操作。\n",
    "\n",
    "**Requirements**\n",
    "\n",
    "The server expects you to have Chrome installed in the default location for each system:\n",
    "\n",
    "| **OS**        | **Expected Location of Chrome**                              |\n",
    "| ------------- | ------------------------------------------------------------ |\n",
    "| Linux         | /usr/bin/google-chrome                                      |\n",
    "| Mac           | /Applications/Google\\ Chrome.app/Contents/MacOS/Google\\ Chrome |\n",
    "| Windows XP    | %HOMEPATH%\\Local Settings\\Application Data\\Google\\Chrome\\Application\\chrome.exe |\n",
    "| Windows Vista | C:\\Users%USERNAME%\\AppData\\Local\\Google\\Chrome\\Application\\chrome.exe |\n"
   ]
  },
  {
   "cell_type": "markdown",
   "metadata": {},
   "source": [
    "Ubutnu 安装 Chrome\n",
    "- step1：将 Chrome 下载源加入到系统的源列表\n",
    "```\n",
    "sudo wget http://www.linuxidc.com/files/repo/google-chrome.list -P /etc/apt/sources.list.d/\n",
    "```\n",
    "- step2：导入谷歌软件的公钥，用于对之后下载的软件进行验证\n",
    "```\n",
    "wget -q -O - https://dl.google.com/linux/linux_signing_key.pub  | sudo apt-key add -\n",
    "```\n",
    "- step3：对当前系统的可用更新列表进行更新，用于随时获得最新的软件版本信息 \n",
    "```\n",
    "sudo apt-get update\n",
    "```\n",
    "- step4：安装 Chrome 稳定版\n",
    "```\n",
    "sudo apt-get install google-chrome-stable\n",
    "```\n",
    "- 查看 Chrome 版本\n",
    "```\n",
    "google-chrome-stable --version\n",
    "```\n",
    "- 打开 google-chrome-stable\n",
    "```\n",
    "/usr/bin/google-chrome-stable\n",
    "```"
   ]
  },
  {
   "cell_type": "code",
   "execution_count": 15,
   "metadata": {},
   "outputs": [
    {
     "name": "stdout",
     "output_type": "stream",
     "text": [
      "Google Chrome 76.0.3809.132 \r\n"
     ]
    }
   ],
   "source": [
    "!google-chrome-stable --version"
   ]
  },
  {
   "cell_type": "code",
   "execution_count": 16,
   "metadata": {},
   "outputs": [
    {
     "name": "stdout",
     "output_type": "stream",
     "text": [
      "google-chrome\r\n",
      "google-chrome-stable\r\n"
     ]
    }
   ],
   "source": [
    "!ls /usr/bin/ | grep google"
   ]
  },
  {
   "cell_type": "markdown",
   "metadata": {},
   "source": [
    "## 3. Selenium-WebDriver\n",
    "安装：\n",
    "`$ pip install selenium`"
   ]
  },
  {
   "cell_type": "code",
   "execution_count": null,
   "metadata": {},
   "outputs": [],
   "source": [
    "from selenium import webdriver\n",
    "chromedriver_path = './chromedriver'\n",
    "driver = webdriver.Chrome(chromedriver_path)\n",
    "request_url = \"http://www.baidu.com\"\n",
    "driver.get(request_url)"
   ]
  },
  {
   "cell_type": "markdown",
   "metadata": {},
   "source": [
    "如果一切正常，此时会运行一个新的 Chrome 窗口来打开百度页面。\n",
    "![title](https://i.loli.net/2019/08/29/gHVT8BrDj2nUzQh.png)"
   ]
  },
  {
   "cell_type": "markdown",
   "metadata": {},
   "source": [
    "如果下载的 chromedriver 没有添加到环境变量里面，会报如下报错:\n",
    "\n",
    "`WebDriverException: Message: 'chromedriver' executable needs to be in PATH. Please see https://sites.google.com/a/chromium.org/chromedriver/home`\n",
    "\n",
    "解决方法有以下几种：\n",
    "- 需要在 `webdriver.Chrome()` 中填写 chromedriver 路径。Chrome 浏览器安装目录。\n",
    "\n",
    "例如：`driver = webdriver.Chrome('C:\\Program Files (x86)\\Google\\Chrome\\Application\\chromedriver.exe')`\n",
    "\n",
    "- 参照前面 ChromeDriver 下载时介绍的方法，将 chromedriver 加入环境变量或 Python 同目录。"
   ]
  },
  {
   "cell_type": "markdown",
   "metadata": {},
   "source": [
    "## 4. Selenium 官方网站提供的测试案例\n",
    "\n",
    "https://docs.seleniumhq.org/docs/03_webdriver.jsp#selenium-webdriver-api-commands-and-operations"
   ]
  },
  {
   "cell_type": "code",
   "execution_count": null,
   "metadata": {
    "scrolled": true
   },
   "outputs": [],
   "source": [
    "from selenium import webdriver\n",
    "from selenium.common.exceptions import TimeoutException\n",
    "from selenium.webdriver.support.ui import WebDriverWait # available since 2.4.0\n",
    "from selenium.webdriver.support import expected_conditions as EC # available since 2.26.0\n",
    "\n",
    "# Create a new instance of the Firefox driver\n",
    "driver = webdriver.Chrome()\n",
    "\n",
    "# go to the google home page\n",
    "driver.get(\"http://www.google.com\")\n",
    "\n",
    "# the page is ajaxy so the title is originally this:\n",
    "print(driver.title)\n",
    "\n",
    "# find the element that's name attribute is q (the google search box)\n",
    "inputElement = driver.find_element_by_name(\"q\")\n",
    "\n",
    "# type in the search\n",
    "inputElement.send_keys(\"cheese!\")\n",
    "\n",
    "# submit the form (although google automatically searches now without submitting)\n",
    "inputElement.submit()\n",
    "\n",
    "try:\n",
    "    # we have to wait for the page to refresh, the last thing that seems to be updated is the title\n",
    "    WebDriverWait(driver, 10).until(EC.title_contains(\"cheese!\"))\n",
    "\n",
    "    # You should see \"cheese! - Google Search\"\n",
    "    print(driver.title)\n",
    "\n",
    "finally:\n",
    "    driver.quit()"
   ]
  },
  {
   "cell_type": "markdown",
   "metadata": {},
   "source": [
    "```\n",
    "Google\n",
    "cheese! - Google 搜索\n",
    "```"
   ]
  },
  {
   "cell_type": "markdown",
   "metadata": {},
   "source": [
    "![title](https://i.loli.net/2019/08/29/oaVIJfUY8Sus9DL.png)\n",
    "![title](https://i.loli.net/2019/08/29/G6oj1fKcLnW7CZJ.gif)"
   ]
  },
  {
   "cell_type": "markdown",
   "metadata": {},
   "source": [
    "## 5. headless 模式"
   ]
  },
  {
   "cell_type": "markdown",
   "metadata": {},
   "source": [
    "如果不想让 Chrome 页面启动，可以配置为 headless 模式，这样在启动的时候我们便看不到任何界面了。\n",
    "这次换百度，唯一变得就是百度 input 的 name 为 “wd”\n",
    "\n",
    "``` html\n",
    "<input id=\"kw\" name=\"wd\" class=\"s_ipt\" value=\"\" maxlength=\"255\" autocomplete=\"off\">\n",
    "```"
   ]
  },
  {
   "cell_type": "code",
   "execution_count": null,
   "metadata": {},
   "outputs": [],
   "source": [
    "from selenium.webdriver.chrome.options import Options\n",
    "\n",
    "\n",
    "def chrome_headless():   \n",
    "    chrome_options = Options()\n",
    "    chrome_options.add_argument('--no-sandbox')\n",
    "    # 使用headless模式：不打开浏览器\n",
    "    chrome_options.add_argument('--headless')\n",
    "    # 谷歌文档提到需要加上这个属性来规避bug\n",
    "    chrome_options.add_argument('--disable-gpu')\n",
    "    # 初始化实例\n",
    "    driver = webdriver.Chrome(options=chrome_options)\n",
    "    return driver"
   ]
  },
  {
   "cell_type": "code",
   "execution_count": null,
   "metadata": {
    "scrolled": false
   },
   "outputs": [],
   "source": [
    "from selenium import webdriver\n",
    "from selenium.common.exceptions import TimeoutException\n",
    "from selenium.webdriver.support.ui import WebDriverWait # available since 2.4.0\n",
    "from selenium.webdriver.support import expected_conditions as EC # available since 2.26.0\n",
    "\n",
    "\n",
    "# Create a new instance of the Firefox driver\n",
    "# driver = webdriver.Chrome()\n",
    "driver = chrome_headless()\n",
    "\n",
    "# go to the baidu home page\n",
    "driver.get(\"http://www.baidu.com\")\n",
    "\n",
    "# the page is ajaxy so the title is originally this:\n",
    "print(driver.title)\n",
    "\n",
    "# find the element that's name attribute is wd (the baidu search box)\n",
    "inputElement = driver.find_element_by_name(\"wd\")\n",
    "\n",
    "# type in the search\n",
    "inputElement.send_keys(\"cheese!\")\n",
    "\n",
    "# submit the form (although baidu automatically searches now without submitting)\n",
    "inputElement.submit()\n",
    "\n",
    "try:\n",
    "    # we have to wait for the page to refresh, the last thing that seems to be updated is the title\n",
    "    WebDriverWait(driver, 10).until(EC.title_contains(\"cheese!\"))\n",
    "\n",
    "    # You should see \"cheese!_百度搜索\"\n",
    "    print(driver.title)\n",
    "\n",
    "finally:\n",
    "    driver.quit()"
   ]
  },
  {
   "cell_type": "markdown",
   "metadata": {},
   "source": [
    "```\n",
    "百度一下，你就知道\n",
    "cheese!_百度搜索\n",
    "```"
   ]
  },
  {
   "cell_type": "markdown",
   "metadata": {},
   "source": [
    "[官方页面](https://docs.seleniumhq.org/docs/03_webdriver.jsp#selenium-webdriver-api-commands-and-operations)也提供了其他的 Selenium-WebDriver API命令和操作。"
   ]
  },
  {
   "cell_type": "markdown",
   "metadata": {},
   "source": [
    "## 6. 总结"
   ]
  },
  {
   "cell_type": "markdown",
   "metadata": {},
   "source": [
    "**Selenium 使用步骤**\n",
    "1. 安装selenium `$ pip install selenium`\n",
    "2. 得安装好相关浏览器，比如 Chrome、Firefox 等等\n",
    "3. 根据选择的浏览器，下载浏览器版本对应的 WebDriver， 将 chromedriver 添加到环境变量\n",
    "4. 使用，以 ChromeDriver 为例\n",
    "\n",
    "``` python\n",
    "from selenium import webdriver\n",
    "driver = webdriver.Chrome()\n",
    "request_url = \"http://www.baidu.com\"\n",
    "driver.get(request_url)\n",
    "```\n",
    "5. headless模式，不显示浏览器窗口,后台执行\n",
    "\n",
    "``` python\n",
    "from selenium import webdriver\n",
    "from selenium.webdriver.chrome.options import Options\n",
    "\n",
    "chrome_options = Options()\n",
    "chrome_options.add_argument('--no-sandbox')\n",
    "# 使用headless模式：不打开浏览器\n",
    "chrome_options.add_argument('--headless')\n",
    "# 谷歌文档提到需要加上这个属性来规避bug\n",
    "chrome_options.add_argument('--disable-gpu')\n",
    "# 初始化实例\n",
    "driver = webdriver.Chrome(options=chrome_options)\n",
    "request_url = \"http://www.baidu.com\"\n",
    "driver.get(request_url)\n",
    "```\n",
    "6. 如果添加进环境变量执行失败，有以下错误，就在 `webdriver.Chrome()` 中填写 chromedriver 路径。\n",
    "\n",
    "`WebDriverException: Message: 'chromedriver' executable needs to be in PATH.`\n",
    "\n",
    "``` python\n",
    "chromedriver_path = 'the/path/of/chromedriver'\n",
    "driver = webdriver.Chrome(chromedriver_path)\n",
    "```"
   ]
  }
 ],
 "metadata": {
  "kernel_info": {
   "name": "python3"
  },
  "kernelspec": {
   "display_name": "Python 3",
   "language": "python",
   "name": "python3"
  },
  "language_info": {
   "codemirror_mode": {
    "name": "ipython",
    "version": 3
   },
   "file_extension": ".py",
   "mimetype": "text/x-python",
   "name": "python",
   "nbconvert_exporter": "python",
   "pygments_lexer": "ipython3",
   "version": "3.7.3"
  },
  "nteract": {
   "version": "0.14.5"
  },
  "toc": {
   "base_numbering": 1,
   "nav_menu": {},
   "number_sections": true,
   "sideBar": true,
   "skip_h1_title": false,
   "title_cell": "Table of Contents",
   "title_sidebar": "Contents",
   "toc_cell": false,
   "toc_position": {
    "height": "577px",
    "left": "27px",
    "top": "172px",
    "width": "206px"
   },
   "toc_section_display": true,
   "toc_window_display": true
  },
  "varInspector": {
   "cols": {
    "lenName": 16,
    "lenType": 16,
    "lenVar": 40
   },
   "kernels_config": {
    "python": {
     "delete_cmd_postfix": "",
     "delete_cmd_prefix": "del ",
     "library": "var_list.py",
     "varRefreshCmd": "print(var_dic_list())"
    },
    "r": {
     "delete_cmd_postfix": ") ",
     "delete_cmd_prefix": "rm(",
     "library": "var_list.r",
     "varRefreshCmd": "cat(var_dic_list()) "
    }
   },
   "types_to_exclude": [
    "module",
    "function",
    "builtin_function_or_method",
    "instance",
    "_Feature"
   ],
   "window_display": false
  }
 },
 "nbformat": 4,
 "nbformat_minor": 2
}
