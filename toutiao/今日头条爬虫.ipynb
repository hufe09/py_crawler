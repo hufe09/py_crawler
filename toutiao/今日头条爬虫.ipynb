{
 "cells": [
  {
   "cell_type": "markdown",
   "metadata": {},
   "source": [
    "# 今日头条爬虫"
   ]
  },
  {
   "cell_type": "markdown",
   "metadata": {},
   "source": [
    "# 1. 探索发现"
   ]
  },
  {
   "cell_type": "markdown",
   "metadata": {},
   "source": [
    "## 页面查看"
   ]
  },
  {
   "cell_type": "markdown",
   "metadata": {},
   "source": [
    "今日头条是动态渲染页面的典型网站，我们一起来看一下数据抓取的过程。\n",
    "\n",
    "今日头条页面内容为瀑布型结构，即没有传统的按钮下一页，通过鼠标滑轮往下翻就可以一直加载。\n",
    "\n",
    "通过浏览器开发者工具查看。"
   ]
  },
  {
   "cell_type": "markdown",
   "metadata": {},
   "source": [
    "![title](https://i.loli.net/2019/08/25/5KnJwfeDHvEOLxW.png)\n",
    "\n",
    "Request URL: https://www.toutiao.com/api/pc/feed/?max_behot_time=1566696918&category=__all__&utm_source=toutiao&widen=1&tadrequire=true&as=A1A5AD46B1EF5C6&cp=5D617F753C367E1&_signature=KanSeBAWdM.Bc.AFqJnbDCmp0m\n",
    "\n",
    "**将上面得到的链接打开，即可看到json格式的数据。**"
   ]
  },
  {
   "cell_type": "markdown",
   "metadata": {},
   "source": [
    "![title](https://i.loli.net/2019/08/25/OBngl8b7SQdoimU.png)\n",
    "\n",
    "``` json\n",
    "{\n",
    "\"single_mode\": true,\n",
    "\"abstract\": \"“老夏分析师”为您解读在职场中，经常能够碰到领导对员工说：“辛苦了”。毫无疑问这是领导看到了员工的努力，对员工辛苦工作的认可与肯定。当领导对你说：“辛苦了”，千万不要想都没有想就开口乱回答，要根据所处的环境、领导的表情、肢体动作来进行回答。\",\n",
    "\"middle_mode\": true,\n",
    "\"more_mode\": true,\n",
    "\"tag\": \"news_career\",\n",
    "\"comments_count\": 1089,\n",
    "\"tag_url\": \"search/?keyword=%E8%81%8C%E5%9C%BA\",\n",
    "\"title\": \"领导说“辛苦了”该怎么回？低情商才说不辛苦，怎么回才显情商高？\",\n",
    "\"chinese_tag\": \"职场\",\n",
    "\"source\": \"悟空问答\",\n",
    "\"group_source\": 10,\n",
    "\"has_gallery\": false,\n",
    "\"media_url\": \"/c/user/token/MS4wLjABAAAAG7bWj_1abQtsxfnvbooQLE7820Ll5jVxLyYUeIOUzw4/\",\n",
    "\"media_avatar_url\": \"//p7.pstatp.com/large/6ee90002d5dcc84d8afc\",\n",
    "\"image_list\": [\n",
    "{\n",
    "\"url\": \"//p9.pstatp.com/list/2b2a0000078e276915456\"\n",
    "},\n",
    "{\n",
    "\"url\": \"//p1.pstatp.com/list/2b29600007897dd2f0f77\"\n",
    "},\n",
    "{\n",
    "\"url\": \"//p1.pstatp.com/list/174f300080138dce628f4\"\n",
    "}\n",
    "],\n",
    "\"source_url\": \"/group/6725288482740109572/\",\n",
    "\"article_genre\": \"wenda\",\n",
    "\"item_id\": \"6725288482740109572\",\n",
    "\"is_feed_ad\": false,\n",
    "\"behot_time\": 1566696468,\n",
    "\"image_url\": \"//p9.pstatp.com/list/190x124/2b2a0000078e276915456\",\n",
    "\"group_id\": \"6725288482740109572\",\n",
    "\"middle_image\": \"http://p9.pstatp.com/list/2b2a0000078e276915456\"\n",
    "},\n",
    "```\n",
    "\n",
    ">使用[ json-viewe 插件 ](https://github.com/tulios/json-viewer)让json数据漂亮地显示"
   ]
  },
  {
   "cell_type": "markdown",
   "metadata": {},
   "source": [
    "## 请求地址分析"
   ]
  },
  {
   "cell_type": "markdown",
   "metadata": {},
   "source": [
    "```\n",
    "https://www.toutiao.com/api/pc/feed/?\n",
    "    max_behot_time=1566696918&\n",
    "    category=__all__&\n",
    "    utm_source=toutiao&\n",
    "    widen=1&\n",
    "    tadrequire=true&\n",
    "    as=A1A5AD46B1EF5C6&\n",
    "    cp=5D617F753C367E1&\n",
    "    _signature=KanSeBAWdM.Bc.AFqJnbDCmp0m\n",
    "    \n",
    "```\n",
    "\n",
    "滑动滚轮翻页再次得到一个获取数据的链接。\n",
    "和之前的链接进行对比。\n",
    "\n",
    "```\n",
    "https://www.toutiao.com/api/pc/feed/?\n",
    "    max_behot_time=1566694281&\n",
    "    category=__all__&\n",
    "    utm_source=toutiao&\n",
    "    widen=1&\n",
    "    tadrequire=true&\n",
    "    as=A165ADB601CF5C7&\n",
    "    cp=5D617FF55C276E1&\n",
    "    _signature=KanSeBAWdM.Bc.AFqJknVymp0m\n",
    "```\n",
    "对比发现，`max_behot_time`、`as` 和 `cp` 参数有变化。"
   ]
  },
  {
   "cell_type": "markdown",
   "metadata": {},
   "source": [
    "`max_behot_time`为时间戳，所以可以猜测，今日头条翻页是根据时间戳来实现。"
   ]
  },
  {
   "cell_type": "markdown",
   "metadata": {},
   "source": [
    "# 2. 准备工作"
   ]
  },
  {
   "cell_type": "markdown",
   "metadata": {},
   "source": [
    "导入使用的库"
   ]
  },
  {
   "cell_type": "code",
   "execution_count": 1,
   "metadata": {},
   "outputs": [],
   "source": [
    "import requests\n",
    "import json\n",
    "import random\n",
    "import time\n",
    "import pprint\n",
    "import pandas as pd\n",
    "from pyquery import PyQuery as pq"
   ]
  },
  {
   "cell_type": "code",
   "execution_count": 2,
   "metadata": {},
   "outputs": [
    {
     "name": "stdout",
     "output_type": "stream",
     "text": [
      "1566727705.6936185\n",
      "1566727705\n"
     ]
    }
   ],
   "source": [
    "print(time.time())\n",
    "print(int(time.time()))"
   ]
  },
  {
   "cell_type": "code",
   "execution_count": 3,
   "metadata": {},
   "outputs": [
    {
     "name": "stdout",
     "output_type": "stream",
     "text": [
      "<Response [200]>\n"
     ]
    }
   ],
   "source": [
    "url = 'https://www.toutiao.com/api/pc/feed/?max_behot_time=1566687351&category=__all__&utm_source=toutiao&widen=1&tadrequire=true&as=A125BD66A10FF9C&cp=5D614FEF391C8E1&_signature=KanSeBAWdM.Bc.AFqJmDoCmp0m'\n",
    "response = requests.get(url)\n",
    "print(response)"
   ]
  },
  {
   "cell_type": "markdown",
   "metadata": {},
   "source": [
    "返回状态码为200，代表请求成功。"
   ]
  },
  {
   "cell_type": "code",
   "execution_count": 4,
   "metadata": {},
   "outputs": [
    {
     "data": {
      "text/plain": [
       "'{\"message\": \"error\", \"data\": [], \"has_more\": false}'"
      ]
     },
     "execution_count": 4,
     "metadata": {},
     "output_type": "execute_result"
    }
   ],
   "source": [
    "response.text"
   ]
  },
  {
   "cell_type": "markdown",
   "metadata": {},
   "source": [
    "获取数据成功：\n",
    "```\n",
    "{\"has_more\": true, \"message\": \"success\", \"data\": [{\"chinese_tag\": \"\\u65f6\\u653f\", \"media_avatar_url\": \"//p9.pstatp.com/large/ff1b0000332acf4a6c2e\", \"is_feed_ad\": false, \"tag_url\": \"search/?keyword=%E6%97%B6%E6%94%BF\", \"title\": \"\\u603b\\u4e66\\u8bb0\\u5173\\u5fc3\\u7684\\u767e\\u59d3\\u8eab\\u8fb9\\u4e8b\\uff5c\\u517b\\u8001\\u9662\\u65b0\\u201c\\u98ce\\u666f\\u201d\\uff1a\\u5927\\u7231\\u626e\\u7f8e\\u5915\\u9633\\u7ea2\", \"single_mode\": false, \"middle_mode\": false, \"abstract\": \"\\u603b\\u4e66\\u8bb0\\u5173\\u5fc3\\u7684\\u767e\\u59d3\\u8eab\\u8fb9\\u4e8b\\uff5c\\u517b\\u8001\\u9662\\u65b0\\u201c\\u98ce\\u666f\\u201d\\uff1a\\u5927\\u7231\\u626e\\u7f8e\\u5915\\u9633\\u7ea2\", \"tag\": \"news_politics\", \"behot_time\": 1566686676, \"source_url\": \"/group/6728927593506013708/\", \"source\": \"\\u65b0\\u534e\\u7f51\\u5ba2\\u6237\\u7aef\",\n",
    "...\n",
    "```\n",
    "\n",
    "获取数据失败：\n",
    "```\n",
    "'{\"message\": \"error\", \"data\": [], \"has_more\": false}'\n",
    "```"
   ]
  },
  {
   "cell_type": "markdown",
   "metadata": {},
   "source": [
    "成功获取到的数据，因为编码的问题，我们不能直观地查看信息。\n",
    "为了观察方便，我们使用下面两种方法：\n",
    "1. 所以采用 utf-8 编码，unicode_escape 转码。将 `\\u53f2\\uff1a\\u4e70` 格式的信息转换为中文。\n",
    "但是，展示时还是以一个字符串的方式整体展示。"
   ]
  },
  {
   "cell_type": "code",
   "execution_count": null,
   "metadata": {
    "scrolled": false
   },
   "outputs": [],
   "source": [
    "response.text.encode(\"utf-8\").decode(\"unicode_escape\")"
   ]
  },
  {
   "cell_type": "markdown",
   "metadata": {},
   "source": [
    "```\n",
    "...\n",
    "\"preload_web\": 0, \"ad_label\": \"广告\", \"user_repin\": 0, \"label_style\": 3, \"item_version\": 0, \"group_id\": \"6726811016866300171\", \"middle_image\": {}, \"gallary_image_count\": 3}, {\"single_mode\": true, \"abstract\": \"市值蒸发70亿！85后董事长“跑路”？这家上市公司“翻车”也许不是意外……\", \"middle_mode\": true, \"more_mode\": true, \"tag\": \"news_investment\", \"comments_count\": 72, \"tag_url\": \"search/?keyword=None\", \"title\": \"市值蒸发70亿！85后女董事长“跑路”？这家上市公司“翻车”也许不是意外……\", \"source\": \"光明网\", \"group_source\": 2, \"has_gallery\": false, \"media_url\": \"/c/user/token/MS4wLjABAAAA9Lz0MeLdJDmqpU26Xi9O_M-cYI9z530wjM7eDKvzZTw/\", \"media_avatar_url\": \"//p4.pstatp.com/large/2c68000006582322ad80\", \"image_list\": [{\"url\": \"//p3.pstatp.com/list/pgc-image/Ra6vM245i1bESq\"}, {\"url\": \"//p1.pstatp.com/list/pgc-image/Ra6vM2L3VM6Umk\"}, {\"url\": \"//p3.pstatp.com/list/pgc-image/Ra6vM2Y59EpqEu\"}], \n",
    "...\n",
    "\n",
    "```"
   ]
  },
  {
   "cell_type": "markdown",
   "metadata": {},
   "source": [
    "2. 用json转换，文字及格式都转换了，层次分明，很漂亮。"
   ]
  },
  {
   "cell_type": "code",
   "execution_count": null,
   "metadata": {
    "scrolled": true
   },
   "outputs": [],
   "source": [
    "json.loads(response.text)"
   ]
  },
  {
   "cell_type": "markdown",
   "metadata": {},
   "source": [
    "``` json\n",
    "{'single_mode': True,\n",
    "   'abstract': '市值蒸发70亿！85后董事长“跑路”？这家上市公司“翻车”也许不是意外……',\n",
    "   'middle_mode': True,\n",
    "   'more_mode': True,\n",
    "   'tag': 'news_investment',\n",
    "   'comments_count': 72,\n",
    "   'tag_url': 'search/?keyword=None',\n",
    "   'title': '市值蒸发70亿！85后女董事长“跑路”？这家上市公司“翻车”也许不是意外……',\n",
    "   'source': '光明网',\n",
    "   'group_source': 2,\n",
    "   'has_gallery': False,\n",
    "   'media_url': '/c/user/token/MS4wLjABAAAA9Lz0MeLdJDmqpU26Xi9O_M-cYI9z530wjM7eDKvzZTw/',\n",
    "   'media_avatar_url': '//p4.pstatp.com/large/2c68000006582322ad80',\n",
    "   'image_list': [{'url': '//p3.pstatp.com/list/pgc-image/Ra6vM245i1bESq'},\n",
    "```"
   ]
  },
  {
   "cell_type": "markdown",
   "metadata": {},
   "source": [
    "## 2.1 用户代理"
   ]
  },
  {
   "cell_type": "markdown",
   "metadata": {},
   "source": [
    "![title](https://i.loli.net/2019/08/25/aQCN4RiKJXZGyLM.png)\n",
    "\n",
    "user-agent: Mozilla/5.0 (Windows NT 10.0; Win64; x64) AppleWebKit/537.36 (KHTML, like Gecko) Chrome/77.0.3865.19 Safari/537.36 Edg/77.0.235.9\n",
    "\n",
    "代表浏览器信息，爬虫时为了防止限制访问，需要不断改变浏览器信息，即 user-agent 。告诉服务端，请求是通过不同浏览器来发送的。一种身份伪装的意思。"
   ]
  },
  {
   "cell_type": "markdown",
   "metadata": {},
   "source": [
    "### [fake-useragent](https://pypi.org/project/fake-useragent/)\n",
    "\n",
    "`pip install fake-useragent`\n",
    "\n",
    "Successfully installed fake-useragent-0.1.11"
   ]
  },
  {
   "cell_type": "code",
   "execution_count": 7,
   "metadata": {},
   "outputs": [],
   "source": [
    "from fake_useragent import UserAgent\n",
    "ua = UserAgent()"
   ]
  },
  {
   "cell_type": "code",
   "execution_count": 8,
   "metadata": {},
   "outputs": [
    {
     "data": {
      "text/plain": [
       "'Mozilla/5.0 (compatible; MSIE 9.0; Windows NT 6.1; Trident/5.0; yie8)'"
      ]
     },
     "execution_count": 8,
     "metadata": {},
     "output_type": "execute_result"
    }
   ],
   "source": [
    "ua.ie"
   ]
  },
  {
   "cell_type": "code",
   "execution_count": 9,
   "metadata": {},
   "outputs": [
    {
     "data": {
      "text/plain": [
       "'Mozilla/5.0 (Macintosh; Intel Mac OS X 10_8_3) AppleWebKit/537.36 (KHTML, like Gecko) Chrome/27.0.1453.93 Safari/537.36'"
      ]
     },
     "execution_count": 9,
     "metadata": {},
     "output_type": "execute_result"
    }
   ],
   "source": [
    "ua.chrome"
   ]
  },
  {
   "cell_type": "code",
   "execution_count": 10,
   "metadata": {},
   "outputs": [
    {
     "data": {
      "text/plain": [
       "'Mozilla/5.0 (Windows NT 5.1) AppleWebKit/537.36 (KHTML, like Gecko) Chrome/27.0.1453.93 Safari/537.36'"
      ]
     },
     "execution_count": 10,
     "metadata": {},
     "output_type": "execute_result"
    }
   ],
   "source": [
    "ua.google"
   ]
  },
  {
   "cell_type": "markdown",
   "metadata": {},
   "source": [
    "上面ua请求返回的结果其实能在这个链接 [http://fake-useragent.herokuapp.com/browsers/0.1.11](http://fake-useragent.herokuapp.com/browsers/0.1.11) 找到。\n",
    "存储格式为 json，挑了一些拿出来。\n",
    "``` json\n",
    "{\n",
    "  \"browsers\": {\n",
    "    \"chrome\": [\n",
    "      \"Mozilla/5.0 (Windows NT 6.1) AppleWebKit/537.36 (KHTML, like Gecko) Chrome/41.0.2228.0 Safari/537.36\",\n",
    "      \"Mozilla/5.0 (Macintosh; Intel Mac OS X 10_10_1) AppleWebKit/537.36 (KHTML, like Gecko) Chrome/41.0.2227.1 Safari/537.36\",\n",
    "      ...\n",
    "    ],\n",
    "    \"opera\": [\n",
    "      \"Opera/9.80 (X11; Linux i686; Ubuntu/14.10) Presto/2.12.388 Version/12.16\",\n",
    "      \"Opera/9.80 (Windows NT 6.0) Presto/2.12.388 Version/12.14\",\n",
    "      ...\n",
    "    ],\n",
    "    \"firefox\": [\n",
    "      \"Mozilla/5.0 (Windows NT 6.1; WOW64; rv:40.0) Gecko/20100101 Firefox/40.1\",\n",
    "      \"Mozilla/5.0 (Windows NT 6.3; rv:36.0) Gecko/20100101 Firefox/36.0\",\n",
    "      ...\n",
    "    ]\n",
    "   },\n",
    "  \"randomize\": {\n",
    "    \"0\": \"chrome\",\n",
    "    \"741\": \"internetexplorer\",\n",
    "    \"789\": \"firefox\",\n",
    "    \"939\": \"safari\",\n",
    "    \"975\": \"opera\"\n",
    "   }\n",
    "}\n",
    "```"
   ]
  },
  {
   "cell_type": "markdown",
   "metadata": {},
   "source": [
    "## 2.2 ip代理"
   ]
  },
  {
   "cell_type": "markdown",
   "metadata": {},
   "source": [
    "[https://www.kuaidaili.com/free/](https://www.kuaidaili.com/free/)\n",
    "\n",
    "**目的：让被爬取的网站不知道我是谁**\n",
    "\n",
    "| IP              | PORT  | 匿名度 | 类型 | 位置                                               | 响应速度 | 最后验证时间        |\n",
    "| :-------------- | :---- | :----- | :--- | :------------------------------------------------- | :------- | :------------------ |\n",
    "| 163.204.245.0   | 9999  | 高匿名 | HTTP | 广东省汕尾市 联通                                  | 2秒      | 2019-08-25 11:30:54 |\n",
    "| 175.44.150.58   | 9000  | 高匿名 | HTTP | 中国 福建省 三明市 联通                            | 2秒      | 2019-08-25 10:30:58 |\n",
    "| 1.198.72.133    | 9999  | 高匿名 | HTTP | 河南省济源市 电信                                  | 3秒      | 2019-08-25 09:31:00 |\n",
    "| 123.206.54.52   | 8118  | 高匿名 | HTTP | 天津市天津市 腾讯云计算（北京）有限责任公司 腾讯云 | 1秒      | 2019-08-25 08:30:52 |\n",
    "| 171.11.178.97   | 9999  | 高匿名 | HTTP | 河南省济源市 电信                                  | 3秒      | 2019-08-25 07:30:57 |\n",
    "| 180.119.68.208  | 9999  | 高匿名 | HTTP | 江苏省扬州市 电信                                  | 3秒      | 2019-08-25 06:30:56 |\n",
    "| 112.111.96.100  | 9000  | 高匿名 | HTTP | 中国 福建省 三明市 联通                            | 2秒      | 2019-08-25 05:30:51 |\n",
    "| 163.204.245.89  | 9999  | 高匿名 | HTTP | 广东省汕尾市 联通                                  | 0.5秒    | 2019-08-25 04:30:59 |\n",
    "| 163.204.241.38  | 9999  | 高匿名 | HTTP | 广东省汕尾市 联通                                  | 3秒      | 2019-08-25 03:30:55 |\n",
    "| 163.204.243.200 | 9999  | 高匿名 | HTTP | 广东省汕尾市 联通                                  | 2秒      | 2019-08-25 02:31:01 |\n",
    "| 121.232.194.117 | 9000  | 高匿名 | HTTP | 中国 江苏省 镇江市 电信                            | 1秒      | 2019-08-25 01:30:56 |\n",
    "| 60.191.57.78    | 13629 | 高匿名 | HTTP | 浙江省杭州市 电信                                  | 1秒      | 2019-08-25 00:31:01 |\n",
    "| 49.81.125.237   | 9000  | 高匿名 | HTTP | 江苏省徐州市 电信                                  | 3秒      | 2019-08-24 23:30:59 |\n",
    "| 61.176.223.7    | 58822 | 高匿名 | HTTP | 辽宁省葫芦岛市 联通                                | 2秒      | 2019-08-24 22:30:58 |\n",
    "| 180.118.86.86   | 9000  | 高匿名 | HTTP | 中国 江苏省 镇江市 电信                            | 2秒      | 2019-08-24 21:30:34 |"
   ]
  },
  {
   "cell_type": "markdown",
   "metadata": {},
   "source": [
    "- get/post：请求方法\n",
    "- url：我要去哪儿，去往西天取经\n",
    "- proxies：我是从哪来，我从东土大唐而来\n",
    "- headers：我是怎么来的，骑着白龙马来的还是开着奔驰来的"
   ]
  },
  {
   "cell_type": "code",
   "execution_count": null,
   "metadata": {
    "scrolled": false
   },
   "outputs": [],
   "source": [
    "headers = {\n",
    "    \"user_agent\": ua.chrome\n",
    "}\n",
    "proxies = {\n",
    "    \"url\": \"http://112.111.96.100:9000\"\n",
    "}\n",
    "response = requests.get(url, headers=headers, proxies=proxies)\n",
    "json.loads(response.text)"
   ]
  },
  {
   "cell_type": "markdown",
   "metadata": {},
   "source": [
    "## 2.3 将用户代理和IP代理存储在本地"
   ]
  },
  {
   "cell_type": "markdown",
   "metadata": {},
   "source": [
    "### 用户代理本地存储（浏览器）"
   ]
  },
  {
   "cell_type": "code",
   "execution_count": 12,
   "metadata": {},
   "outputs": [],
   "source": [
    "def write_browser_info_to_file():\n",
    "    \"\"\"\n",
    "    将远端的浏览器信息存储在本地，加快请求速度\n",
    "    \"\"\"\n",
    "    agent_url = 'http://fake-useragent.herokuapp.com/browsers/0.1.11'\n",
    "    try:\n",
    "        my_user_agent = requests.get(agent_url).text\n",
    "    except ConnectionError as e:\n",
    "        print(\"ConnectionError:\", e)\n",
    "    agent_json = json.loads(my_user_agent)\n",
    "\n",
    "    with open('browser_info.json', \"w\") as f:\n",
    "        json.dump(my_user_agent, f)\n",
    "\n",
    "    print(\"浏览器 json 已存储。\")\n",
    "\n",
    "# write_browser_info_to_file()"
   ]
  },
  {
   "cell_type": "markdown",
   "metadata": {},
   "source": [
    "用with，保证文件关闭。\n",
    "json.dump 会自动保存格式，写进文件就是 json格式，方便后面读取。\n",
    "\n",
    "**json方法dump,dumps,load,loads区别于联系**\n",
    "\n",
    "load 和 dump 是一对，它们用来操作文件\n",
    "\n",
    "loads 和 dumps 是一对，它们用来 json 和字符串之间相互转换的"
   ]
  },
  {
   "cell_type": "markdown",
   "metadata": {},
   "source": [
    "下面看下load 与 loads 的区别："
   ]
  },
  {
   "cell_type": "code",
   "execution_count": 13,
   "metadata": {},
   "outputs": [
    {
     "data": {
      "text/plain": [
       "(str, dict)"
      ]
     },
     "execution_count": 13,
     "metadata": {},
     "output_type": "execute_result"
    }
   ],
   "source": [
    "with open('browser_info.json', 'r') as f:\n",
    "    str_browser_json = json.load(f)\n",
    "dict_browser_json = json.loads(str_browser_json)\n",
    "type(str_browser_json), type(dict_browser_json)"
   ]
  },
  {
   "cell_type": "code",
   "execution_count": 14,
   "metadata": {},
   "outputs": [],
   "source": [
    "def get_browsers_from_file():\n",
    "    \"\"\"\n",
    "    从本地json中获取浏览器信息\n",
    "    \"\"\"\n",
    "    with open('browser_info.json', 'r') as f:\n",
    "        browser_json = json.load(f)\n",
    "        return browser_json"
   ]
  },
  {
   "cell_type": "code",
   "execution_count": 15,
   "metadata": {
    "scrolled": true
   },
   "outputs": [
    {
     "data": {
      "text/plain": [
       "'Mozilla/5.0 (Windows; U; Windows NT 6.0; ja-JP) AppleWebKit/533.20.25 (KHTML, like Gecko) Version/5.0.4 Safari/533.20.27'"
      ]
     },
     "execution_count": 15,
     "metadata": {},
     "output_type": "execute_result"
    }
   ],
   "source": [
    "def get_random_user_agent():\n",
    "    \"\"\"\n",
    "    随机选择一个浏览器\n",
    "    \"\"\"\n",
    "    agent_json = json.loads(get_browsers_from_file())\n",
    "    browsers = tuple(agent_json['browsers'].keys())\n",
    "\n",
    "    # 随机出一个浏览器类型\n",
    "    i = random.randint(0, len(browsers)-1)\n",
    "    browser_name = browsers[i]\n",
    "\n",
    "    # 随机出一个具体的浏览器\n",
    "    browser_details = agent_json['browsers'][browser_name]\n",
    "    j = random.randint(0, len(browser_details)-1)\n",
    "    select_browser = browser_details[j]\n",
    "    return select_browser\n",
    "\n",
    "get_random_user_agent()"
   ]
  },
  {
   "cell_type": "markdown",
   "metadata": {},
   "source": [
    "### IP代理本地存储"
   ]
  },
  {
   "cell_type": "code",
   "execution_count": 16,
   "metadata": {},
   "outputs": [],
   "source": [
    "def get_proxies_pool(proxies_html):\n",
    "    \"\"\"\n",
    "    获取ip代理池\n",
    "    \"\"\"\n",
    "    html = pq(proxies_html)\n",
    "    theads = html(\"table\")(\"thead\")(\"tr\").text().split(\"\\n\")\n",
    "    tbody = html(\"table\")(\"tbody\")(\"tr\")\n",
    "    proxies_pool = []\n",
    "    for tr in tbody.items():\n",
    "        for td in tr.items():\n",
    "            td_json = {}\n",
    "            td_list = td.text().split(\"\\n\")\n",
    "            for i in range(len(theads)):\n",
    "                td_json[theads[i]] = td_list[i]\n",
    "    \n",
    "            proxies_pool.append(td_json)\n",
    "    return proxies_pool"
   ]
  },
  {
   "cell_type": "code",
   "execution_count": 17,
   "metadata": {
    "scrolled": true
   },
   "outputs": [],
   "source": [
    "def write_proxies_info_to_file():\n",
    "    \"\"\"\n",
    "    将ip代理池存储在本地，加快请求速度\n",
    "    \"\"\"\n",
    "    proxies_url = 'https://www.kuaidaili.com/free/'\n",
    "    try:\n",
    "        proxies_html = requests.get(proxies_url).text\n",
    "    except ConnectionError as e:\n",
    "        print(\"ConnectionError:\", e)\n",
    "        \n",
    "    proxies_pool = get_proxies_pool(proxies_html)\n",
    "    \n",
    "\n",
    "    with open('ip_proxies.json', \"w\") as f:\n",
    "        json.dump(proxies_pool, f)\n",
    "\n",
    "    print(\"proxies 已存储。\")\n",
    "\n",
    "# write_proxies_info_to_file()"
   ]
  },
  {
   "cell_type": "code",
   "execution_count": 18,
   "metadata": {},
   "outputs": [],
   "source": [
    "def get_proxies_from_file():\n",
    "    \"\"\"\n",
    "    从本地json中获取ip代理\n",
    "    \"\"\"\n",
    "    with open('ip_proxies.json', 'r') as f:\n",
    "        proxies_json = json.load(f)\n",
    "        return proxies_json"
   ]
  },
  {
   "cell_type": "code",
   "execution_count": 19,
   "metadata": {
    "scrolled": true
   },
   "outputs": [
    {
     "data": {
      "text/plain": [
       "'http://163.204.245.0:9999'"
      ]
     },
     "execution_count": 19,
     "metadata": {},
     "output_type": "execute_result"
    }
   ],
   "source": [
    "def get_random_proxies():\n",
    "    \"\"\"\n",
    "    随机选择一个ip代理\n",
    "    \"\"\"\n",
    "    proxies_list = get_proxies_from_file()\n",
    "    \n",
    "    # 随机出一个ip代理\n",
    "    i = random.randint(0, len(proxies_list)-1)\n",
    "    proxies = proxies_list[i]\n",
    "    return f'http://{proxies[\"IP\"]}:{proxies[\"PORT\"]}'\n",
    "    \n",
    "get_random_proxies()"
   ]
  },
  {
   "cell_type": "markdown",
   "metadata": {},
   "source": [
    "# 3. 爬取头条"
   ]
  },
  {
   "cell_type": "code",
   "execution_count": 20,
   "metadata": {},
   "outputs": [],
   "source": [
    "def get_request_url_and_headers():\n",
    "    \"\"\"\n",
    "    构造请求工具，url, headers, proxies\n",
    "    \"\"\"\n",
    "    user_agent = get_random_user_agent()\n",
    "    ip_proxies = get_random_proxies()\n",
    "    headers = {\n",
    "        \"user_agent\": user_agent\n",
    "    }\n",
    "    proxies = {\n",
    "        \"url\": ip_proxies\n",
    "    }\n",
    "    current_time = int(time.time())\n",
    "    url = f'https://www.toutiao.com/api/pc/feed/?max_behot_time={current_time}&category=__all__&utm_source=toutiao&widen=1& \\\n",
    "          tadrequire=true&as=A125BD66A10FF9C&cp=5D614FEF391C8E1&_signature=KanSeBAWdM.Bc.AFqJmDoCmp0m'\n",
    "\n",
    "    return url, headers, proxies"
   ]
  },
  {
   "cell_type": "code",
   "execution_count": 21,
   "metadata": {},
   "outputs": [],
   "source": [
    "def get_response_html():\n",
    "    \"\"\"\n",
    "    请求链接，返回页面内容\n",
    "    \"\"\"\n",
    "    url, headers, proxies = get_request_url_and_headers()\n",
    "    try:\n",
    "        response = requests.get(url, headers=headers, proxies=proxies)\n",
    "        global response_json\n",
    "        response_json = json.loads(response.text)\n",
    "    except ConnectionError as e:\n",
    "        print(\"ConnectionError:\", e)\n",
    "        \n",
    "    if response_json['message'] == \"error\":\n",
    "        get_response_html()\n",
    "    return response_json"
   ]
  },
  {
   "cell_type": "markdown",
   "metadata": {},
   "source": [
    "##### 注意如果将response_json设置为全局变量，会出现一坑，看下面的结果\n",
    "\n",
    "``` python\n",
    "def get_response_html():\n",
    "    url, headers, proxies = get_request_url_and_headers()\n",
    "    try:\n",
    "        response = requests.get(url, headers=headers, proxies=proxies)\n",
    "#         global response_json\n",
    "        response_json = json.loads(response.text)\n",
    "    except ConnectionError as e:\n",
    "        print(\"ConnectionError:\", e)\n",
    "        \n",
    "    if response_json['message'] == \"error\":\n",
    "        get_response_html()\n",
    "    return response_json\n",
    "\n",
    "\n",
    "res_success = get_response_html()\n",
    "print(\"-\"*50)\n",
    "print(\"res_success:\\n\", res_success)\n",
    "```\n",
    "运行结果:\n",
    "```\n",
    "{'message': 'error', 'data': [], 'has_more': False}\n",
    "{'message': 'error', 'data': [], 'has_more': False}\n",
    "{'message': 'error', 'data': [], 'has_more': False}\n",
    "\n",
    "{'has_more': True,\n",
    " 'message': 'success',\n",
    " 'data': [{'log_extra': '{\"ad_price\":\"XWI60gAVQdRdYjrSABVB1Jw2TurwFrBsmoKhqw\",\"convert_component_suspend\":0,\"convert_id\":0,\"external_action\":0,\"orit\":1,\"req_id\":\"20190825153753010152041233635E2E2\",\"rit\":1}',\n",
    " ...\n",
    " }\n",
    "\n",
    "--------------------------------------------\n",
    "res_success:\n",
    " {'message': 'error', 'data': [], 'has_more': False}\n",
    "```\n",
    "\n",
    "上面例子中，前几次都发生错误，第4次请求成功了，但是最终打印 res_success 时，还是打印了错误的请求结果。\n",
    "\n",
    "递归后回来的数据，将递归外面的值返回了出来。\n",
    "\n",
    "解决办法：将 response_json 升级为全局变量 `global response_json`\n",
    "\n"
   ]
  },
  {
   "cell_type": "code",
   "execution_count": 22,
   "metadata": {},
   "outputs": [],
   "source": [
    "def data_to_file():\n",
    "    \"\"\"\n",
    "    获取到的页面数据存储\n",
    "    \"\"\"\n",
    "    data = get_response_html()[\"data\"]\n",
    "    \n",
    "    for i in range(len(data)):\n",
    "        data_dict = data[i]\n",
    "        \n",
    "        with open(\"toutiao.json\", \"a+\") as f:\n",
    "            json.dump(data_dict, f, ensure_ascii=False)\n",
    "            f.write(\"\\n\")\n",
    "            \n",
    "data_to_file()    "
   ]
  },
  {
   "cell_type": "markdown",
   "metadata": {},
   "source": [
    "### 存储结果"
   ]
  },
  {
   "cell_type": "code",
   "execution_count": 23,
   "metadata": {},
   "outputs": [],
   "source": [
    "df = pd.read_json(\"toutiao.json\", lines=True)\n",
    "df.to_excel(\"toutiao.xlsx\")"
   ]
  },
  {
   "cell_type": "markdown",
   "metadata": {},
   "source": [
    "![title](https://i.loli.net/2019/08/25/1ALUwlkR3nIQYHe.png)"
   ]
  }
 ],
 "metadata": {
  "kernelspec": {
   "display_name": "Python 3",
   "language": "python",
   "name": "python3"
  },
  "language_info": {
   "codemirror_mode": {
    "name": "ipython",
    "version": 3
   },
   "file_extension": ".py",
   "mimetype": "text/x-python",
   "name": "python",
   "nbconvert_exporter": "python",
   "pygments_lexer": "ipython3",
   "version": "3.7.3"
  },
  "toc": {
   "base_numbering": 1,
   "nav_menu": {},
   "number_sections": true,
   "sideBar": true,
   "skip_h1_title": false,
   "title_cell": "Table of Contents",
   "title_sidebar": "Contents",
   "toc_cell": false,
   "toc_position": {
    "height": "757px",
    "left": "91px",
    "top": "244px",
    "width": "165px"
   },
   "toc_section_display": true,
   "toc_window_display": true
  },
  "varInspector": {
   "cols": {
    "lenName": 16,
    "lenType": 16,
    "lenVar": 40
   },
   "kernels_config": {
    "python": {
     "delete_cmd_postfix": "",
     "delete_cmd_prefix": "del ",
     "library": "var_list.py",
     "varRefreshCmd": "print(var_dic_list())"
    },
    "r": {
     "delete_cmd_postfix": ") ",
     "delete_cmd_prefix": "rm(",
     "library": "var_list.r",
     "varRefreshCmd": "cat(var_dic_list()) "
    }
   },
   "types_to_exclude": [
    "module",
    "function",
    "builtin_function_or_method",
    "instance",
    "_Feature"
   ],
   "window_display": false
  }
 },
 "nbformat": 4,
 "nbformat_minor": 2
}
